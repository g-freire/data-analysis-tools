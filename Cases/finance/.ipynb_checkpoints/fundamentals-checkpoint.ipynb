{
 "cells": [
  {
   "cell_type": "code",
   "execution_count": 4,
   "metadata": {
    "scrolled": true
   },
   "outputs": [],
   "source": [
    "%load_ext autoreload\n",
    "%autoreload 2\n",
    "%matplotlib inline"
   ]
  },
  {
   "cell_type": "markdown",
   "metadata": {},
   "source": [
    "<h2>Fundamental Analysis Metrics</h2> \n",
    "\n",
    "<h4>Should always compare industry related companies, each sector has it owns operational characteristics. Companies that operate oil rigs or manufacture semiconductors invest capital much more intensively than those that require less equipment(e.g software). </h4>\n",
    "\n",
    "<h5>Equity =  assets -  debt.<h5>\n",
    "   \n",
    "<h5>Profit x Profitability </h5> \n",
    "<p>The key difference here is that profit is an absolute amount while profitability is a relative one</p>\n",
    "<p>Profit measure the absolute number/return between a negotiation, basicly raw output(income/revenue) minus input(cost/expenses). Profitability is the  metric used to determine the scope of a company's profit in relation to the size of the business. Although a company can realize a profit, this does not necessarily mean that the company is profitable. Profitability shows the return on an investment based on its resources in comparison with an alternative investment. </p>\n",
    "\n",
    "\n",
    "<h5>Revenue/Gross Sales x Income </h5> \n",
    "<p>The revenue number is the income a company generates before any expenses are taken out. Income, or net income, is a company's total earnings or profit.Net income is calculated by taking revenues and subtracting the costs of doing business, such as depreciation, interest, taxes, and other expenses</p>\n",
    "\n",
    "<h3>Higher is Better* - with a grant of salt, because it can also show a scam </h3>\n",
    "    \n",
    "<p>ROIC (Return on Invested Capital) =  (net income - dividend) / (debt + equity). Company's efficiency at allocating the capital under its control to profitable investments. Is the amount of return a company makes above the average cost it pays for its debt and equity capital.\n",
    "A company is creating value if its ROIC exceeds 2%.  Show more information tha ROE, since increase in debt or profit turnovers can hide the true health of a company\n",
    " </p>\n",
    "\n",
    "<p>ROE(Return on Equity) = (net income) / (shareholders equity). Shows how efficient a company is when using the shareholders’ equity. Net Income(sales minus cost of goods sold, how much revenue exceeds the expenses of an organization) ÷ Shareholder's Equity (company’s total assets minus its debt, liabilities) \n",
    "    ROE of 1.2 means that for every dollar you put in, the company will earn 1.20.  Investors can consider an ROE near the long-term average of the S&P 500 (14%) as an acceptable ratio and anything less than 10% as poor.An extremely high ROE is often due to a small equity account compared to net income, which indicates risk.</p>\n",
    "    \n",
    "<p> Earnings Per Share (EPS) -  EPS tells us how much of a company's profit is assigned to each share of stock. EPS is calculated as net income (after dividends on preferred stock) divided by the number of outstanding shares.</p>\n",
    "\n",
    "<p>Book Value (Carrying value)-the net asset value of a company calculated as total assets minus intangible assets (patents, goodwill) and liabilities. reflects the total value of a company's assets that shareholders of that company would receive if the company were to be liquidated </p>\n",
    "\n",
    "\n",
    "\n",
    "\n",
    "\n",
    "\n",
    "\n",
    "\n",
    "\n",
    "\n",
    "\n",
    "\n",
    "<p> Dividend yield -  Divide dividend payments per share in one year by the value of a share.</p>\n",
    "<p>EBIT (Earnings Before Interest and Taxes) - Company's net income before income tax expense and interest expenses are deducted. \n",
    "    </p>\n",
    "\n",
    "<h3>Lower is Better</h3>\n",
    "<p> P/B Ratio (Price-to-Book Ratio) -  The price-to-book ratio is an indication that shows how much the stock worth compared to the book value of the company. Price per share divided by the book value per share.  Low P/B ratios can be indicative of undervalued stocks, and can be useful when conducting a thorough analysis of a stock</p>\n",
    "<p>Price to Earning (P/E) - This ratio compares the current sales price of a company's stock to its per-share earnings. For example, imagine that the price per share is 30 and the stock pays 2 earnings per share: 30 / 2 = 15. P/E also shows how much is returned to investors and not being used in reasearch/development</p>\n",
    "\n",
    "<p>PEG (Price/earnigns growth) - Considered more accurate than just a company's P/E alone</p>\n",
    "<p>Beta (β) - The beta gives information about the stock price’s correlation(1 to -1) to the industry it operates in (some index). The higher the more volatility / risk</p>\n"
   ]
  },
  {
   "cell_type": "markdown",
   "metadata": {},
   "source": [
    "<h3>Undervalued Stock Indicators</h3>\n",
    "\n",
    "  <ul>\n",
    "    <li>Low price/earnings ratio.</li>\n",
    "    <li>Low price/earnings growth ratio - investors may be giving more weight to past performance than to future growth opportunities.</li>\n",
    "    <li>High dividend yield</li>\n",
    "    <li>Low market-to-book ratio</li>\n",
    "    <li>Free cash flow</li>\n",
    "  </ul>\n",
    "  \n",
    "  Some screeners tools - https://finance.yahoo.com/screener/new , https://www.google.com/search?stick=H4sIAAAAAAAAAOPQeMSozC3w8sc9YSmpSWtOXmMU4RJyy8xLzEtO9UnMS8nMSw9ITE_lAQCCiJIYKAAAAA&q=finance&tbm=fin"
   ]
  },
  {
   "cell_type": "markdown",
   "metadata": {},
   "source": [
    "<h3> Warren Buffet Principles</h3>\n",
    "  <h5> Buffet 4 Rules</h5>\n",
    "  <ul>\n",
    "    <li>vigilant leadership - risk exposure history (Qualitative)</li>\n",
    "    <li>sector longevity - will be able to sell their product in 30 years (Qualitative)</li>\n",
    "    <li>stable and understandable - at least 10 years consistency (Qualitative)</li>\n",
    "    <li>attrative intrinsic value (Quantitative)</li>\n",
    "  </ul>\n",
    "  \n",
    "  <h5>Interesting Quotes from the Investors Letters</h5>\n",
    "  <p>“The key to investing is not assessing how much an industry is going to affect society, or how much it will grow,” he writes “But rather determining the competitive advantage of any given company and, above all, the durability of that advantage.”</p>\n",
    "  <p>Debt becomes financially fatal. A Russianroulette equation – usually win, occasionally die – may make financial sense for someone who gets a piece of a company’s upside but does not share in its downside</p>"
   ]
  },
  {
   "cell_type": "markdown",
   "metadata": {},
   "source": [
    "<h3> Magic Formula -  \"The Little Book That Beats the Market\" by Joel Greenblatt</h3>\n",
    "  Company rankings are based on:\n",
    "  <ul>\n",
    "    <li>Their stock's earnings which are calculated as earnings before interest and taxes (EBIT)</li>\n",
    "    <li>Their yield which is calculated as earnings per share (EPS) divided by the current stock price</li>\n",
    "    <li>Their return on capital which measures how efficiently they generate earnings from their assets.</li>\n",
    "  </ul>\n",
    "  \n",
    "   <h5>Constraints</h5>\n",
    "   <ul>\n",
    "    <li>MC > 100M (excluedes small caps)</li>\n",
    "    <li>Exclude any financial or utility stocks when you choose your companies.</li>\n",
    "    <li>Each year, rebalance the portfolio by selling off losers one week before the year-term ends. Sell off winners one week after the year mark.</li>\n",
    "    <li>Repeat the process each year for a minimum of five to 10 years or more</li>\n",
    "  </ul>"
   ]
  },
  {
   "cell_type": "markdown",
   "metadata": {},
   "source": [
    "<h3>Valuation References</h3>\n",
    "<p>http://www.moneychimp.com/articles/valuation/buffett_calc.htm</p>\n",
    "<p>https://www.magicformulainvesting.com/Account/LogOn?ReturnUrl=%2fScreening%2fStockScreening</p>\n",
    "<p>https://www.cbinsights.com/research/buffett-berkshire-hathaway-shareholder-letters/#section1</p>\n",
    "<p>IBOV http://barganhasdabolsa.blogspot.com/p/ranking-de-acoes.html</p>"
   ]
  },
  {
   "cell_type": "markdown",
   "metadata": {},
   "source": []
  },
  {
   "cell_type": "code",
   "execution_count": null,
   "metadata": {},
   "outputs": [],
   "source": []
  }
 ],
 "metadata": {
  "kernelspec": {
   "display_name": "Python 3",
   "language": "python",
   "name": "python3"
  },
  "language_info": {
   "codemirror_mode": {
    "name": "ipython",
    "version": 3
   },
   "file_extension": ".py",
   "mimetype": "text/x-python",
   "name": "python",
   "nbconvert_exporter": "python",
   "pygments_lexer": "ipython3",
   "version": "3.7.2"
  }
 },
 "nbformat": 4,
 "nbformat_minor": 4
}
