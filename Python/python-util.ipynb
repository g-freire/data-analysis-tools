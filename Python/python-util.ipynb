{
 "cells": [
  {
   "cell_type": "code",
   "execution_count": 1,
   "metadata": {},
   "outputs": [],
   "source": [
    "%load_ext autoreload\n",
    "%autoreload 2"
   ]
  },
  {
   "cell_type": "markdown",
   "metadata": {},
   "source": [
    "## *args - spread operator\n"
   ]
  },
  {
   "cell_type": "code",
   "execution_count": 2,
   "metadata": {},
   "outputs": [
    {
     "name": "stdout",
     "output_type": "stream",
     "text": [
      "first normal arg: initial\n",
      "another args through *argv : alice bob charlie\n"
     ]
    }
   ],
   "source": [
    "# expandindo tupla de argumentos\n",
    "def test_var_args(f_arg, *argv):\n",
    "    print(\"first normal arg:\", f_arg)\n",
    "    print(\"another args through *argv :\", *argv)\n",
    "test_var_args('initial','alice','bob','charlie')\n"
   ]
  },
  {
   "cell_type": "code",
   "execution_count": 29,
   "metadata": {},
   "outputs": [
    {
     "name": "stdout",
     "output_type": "stream",
     "text": [
      "lista argumento do dicionario\n",
      "[321, 'alice', True]\n",
      "\n",
      "lista expandida\n",
      "321 alice True\n",
      "\n",
      "arg 0 :  321\n",
      "arg 1 :  alice\n",
      "arg 2 :  True\n"
     ]
    }
   ],
   "source": [
    "# expandindo lista argumentos\n",
    "a=    {\"super-objeto\": {\n",
    "                        \"nested-key1\": [321, \"alice\", True],\n",
    "                        \"nested-key2\": [123, \"bob\", False],\n",
    "                       },\n",
    "    }\n",
    "print('lista argumento do dicionario')\n",
    "print(a['super-objeto']['nested-key1'])\n",
    "print('')\n",
    "print('lista expandida')\n",
    "print(*a['super-objeto']['nested-key1'])\n",
    "print('')\n",
    "\n",
    "def printer(*arg):\n",
    "    for i,v in enumerate(arg):\n",
    "        print(\"arg\",i,\": \",v)\n",
    "        \n",
    "printer(*a['super-objeto']['nested-key1'])\n"
   ]
  },
  {
   "cell_type": "markdown",
   "metadata": {},
   "source": [
    "## **kargs "
   ]
  },
  {
   "cell_type": "code",
   "execution_count": 4,
   "metadata": {},
   "outputs": [],
   "source": [
    "## **kwargs allows you to pass keyworded variable length of arguments to a function. You should use **kwargs if you want to handle named arguments\n",
    "## ou seja, da match nas chaves como parametros das chamadas da funcao"
   ]
  },
  {
   "cell_type": "code",
   "execution_count": 31,
   "metadata": {},
   "outputs": [
    {
     "name": "stdout",
     "output_type": "stream",
     "text": [
      "{'kwargs_1': 'Shark', 'kwargs_2': 4.5, 'kwargs_3': True}\n",
      "Shark\n"
     ]
    }
   ],
   "source": [
    "# se passa tupla argumento ela vira dicionario de key value\n",
    "def print_kwargs(**kwargs):\n",
    "        print(kwargs)\n",
    "        print(kwargs['kwargs_1'])\n",
    "\n",
    "\n",
    "print_kwargs(kwargs_1=\"Shark\", kwargs_2=4.5, kwargs_3=True)"
   ]
  },
  {
   "cell_type": "code",
   "execution_count": 6,
   "metadata": {},
   "outputs": [
    {
     "name": "stdout",
     "output_type": "stream",
     "text": [
      "kwarg_1: Val\n",
      "kwarg_2: Harper\n",
      "kwarg_3: Remy\n"
     ]
    }
   ],
   "source": [
    "# da mesma forma, se passa dicionario, ela mapeia os valores das chaves de entrada com os parametros da funcao\n",
    "def some_kwargs(kwarg_1, kwarg_2, kwarg_3):\n",
    "    print(\"kwarg_1:\", kwarg_1)\n",
    "    print(\"kwarg_2:\", kwarg_2)\n",
    "    print(\"kwarg_3:\", kwarg_3)\n",
    "\n",
    "kwargs = {\"kwarg_1\": \"Val\", \"kwarg_2\": \"Harper\", \"kwarg_3\": \"Remy\"}\n",
    "some_kwargs(**kwargs)"
   ]
  },
  {
   "cell_type": "markdown",
   "metadata": {},
   "source": [
    "## lambda functions -- lambda (arguments): (expression)"
   ]
  },
  {
   "cell_type": "code",
   "execution_count": 36,
   "metadata": {},
   "outputs": [],
   "source": [
    "def soma(a,b): return a+b"
   ]
  },
  {
   "cell_type": "code",
   "execution_count": 37,
   "metadata": {},
   "outputs": [],
   "source": [
    "soma_lambda = lambda a,b: a+b"
   ]
  },
  {
   "cell_type": "code",
   "execution_count": 38,
   "metadata": {},
   "outputs": [
    {
     "data": {
      "text/plain": [
       "5"
      ]
     },
     "execution_count": 38,
     "metadata": {},
     "output_type": "execute_result"
    }
   ],
   "source": [
    "soma(2,3)"
   ]
  },
  {
   "cell_type": "code",
   "execution_count": 39,
   "metadata": {},
   "outputs": [
    {
     "data": {
      "text/plain": [
       "5"
      ]
     },
     "execution_count": 39,
     "metadata": {},
     "output_type": "execute_result"
    }
   ],
   "source": [
    "soma_lambda(2,3)"
   ]
  },
  {
   "cell_type": "markdown",
   "metadata": {},
   "source": [
    "## map (function, iterable)"
   ]
  },
  {
   "cell_type": "code",
   "execution_count": 40,
   "metadata": {},
   "outputs": [],
   "source": [
    "## lambda functions -- lambda (arguments): (expression)valores = (10,20,20)"
   ]
  },
  {
   "cell_type": "code",
   "execution_count": null,
   "metadata": {},
   "outputs": [],
   "source": [
    "valores = (10,20,30)"
   ]
  },
  {
   "cell_type": "code",
   "execution_count": 41,
   "metadata": {},
   "outputs": [],
   "source": [
    "result = map(soma_lambda,valores,valores*2)"
   ]
  },
  {
   "cell_type": "code",
   "execution_count": 42,
   "metadata": {},
   "outputs": [
    {
     "name": "stdout",
     "output_type": "stream",
     "text": [
      "[20, 40, 40]\n"
     ]
    }
   ],
   "source": [
    "print(list(result))"
   ]
  },
  {
   "cell_type": "code",
   "execution_count": null,
   "metadata": {},
   "outputs": [],
   "source": []
  }
 ],
 "metadata": {
  "kernelspec": {
   "display_name": "Python 3",
   "language": "python",
   "name": "python3"
  },
  "language_info": {
   "codemirror_mode": {
    "name": "ipython",
    "version": 3
   },
   "file_extension": ".py",
   "mimetype": "text/x-python",
   "name": "python",
   "nbconvert_exporter": "python",
   "pygments_lexer": "ipython3",
   "version": "3.7.2"
  }
 },
 "nbformat": 4,
 "nbformat_minor": 2
}
