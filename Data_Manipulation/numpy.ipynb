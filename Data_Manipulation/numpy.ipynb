{
 "cells": [
  {
   "cell_type": "code",
   "execution_count": 1,
   "metadata": {},
   "outputs": [],
   "source": [
    "%load_ext autoreload\n",
    "%autoreload 2\n",
    "import numpy as np"
   ]
  },
  {
   "cell_type": "markdown",
   "metadata": {},
   "source": [
    "# numpy - quickstart tutorial - https://docs.scipy.org/doc/numpy/user/quickstart.html"
   ]
  },
  {
   "cell_type": "markdown",
   "metadata": {},
   "source": [
    "##### NumPy’s main object is the homogeneous multidimensional array.  In NumPy dimensions are called axes.\n",
    "##### NumPy’s array class is called ndarray"
   ]
  },
  {
   "cell_type": "code",
   "execution_count": 2,
   "metadata": {},
   "outputs": [],
   "source": [
    "a = [[ 1., 0., 0.],\n",
    " [ 0., 1., 2.]]"
   ]
  },
  {
   "cell_type": "code",
   "execution_count": 3,
   "metadata": {},
   "outputs": [
    {
     "name": "stdout",
     "output_type": "stream",
     "text": [
      "type :   <class 'numpy.ndarray'>\n",
      "shape - (row,collumn) :   (2, 3)\n",
      "dim - the number of axes (dimensions) of the array.:   2\n",
      "size - total number elements - product size (row*collumn) :   6\n"
     ]
    }
   ],
   "source": [
    "# casting python array to numpy array\n",
    "b = np.array(a)\n",
    "# interessante que propriedades sao acessadas como objetos da classes ndarray\n",
    "print('type :  ', type(b))\n",
    "print('shape - (row,collumn) :  ', b.shape)\n",
    "print('dim - the number of axes (dimensions) of the array.:  ', b.ndim)\n",
    "print('size - total number elements - product size (row*collumn) :  ', b.size)\n",
    "\n",
    "\n"
   ]
  },
  {
   "cell_type": "code",
   "execution_count": 4,
   "metadata": {},
   "outputs": [
    {
     "name": "stdout",
     "output_type": "stream",
     "text": [
      "after reshaping [[1. 0.]\n",
      " [0. 0.]\n",
      " [1. 2.]]\n",
      "linear space [0.   0.25 0.5  0.75 1.   1.25 1.5  1.75 2.  ]\n"
     ]
    }
   ],
   "source": [
    "# reshaping - must be constrained by size \n",
    "print('after reshaping', b.reshape(3,2))\n",
    "\n",
    "# 9 numbers from 0 to 2\n",
    "print('linear space',np.linspace( 0, 2, 9 ))    "
   ]
  }
 ],
 "metadata": {
  "kernelspec": {
   "display_name": "Python 3",
   "language": "python",
   "name": "python3"
  },
  "language_info": {
   "codemirror_mode": {
    "name": "ipython",
    "version": 3
   },
   "file_extension": ".py",
   "mimetype": "text/x-python",
   "name": "python",
   "nbconvert_exporter": "python",
   "pygments_lexer": "ipython3",
   "version": "3.7.2"
  }
 },
 "nbformat": 4,
 "nbformat_minor": 2
}
