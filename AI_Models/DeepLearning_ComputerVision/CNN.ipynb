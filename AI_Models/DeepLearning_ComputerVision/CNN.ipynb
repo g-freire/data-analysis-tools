{
 "cells": [
  {
   "cell_type": "code",
   "execution_count": 1,
   "metadata": {},
   "outputs": [],
   "source": [
    "%load_ext autoreload\n",
    "%autoreload 2\n",
    "import pandas as pd\n"
   ]
  },
  {
   "cell_type": "markdown",
   "metadata": {},
   "source": [
    "## Convolutional Neural Networks\n"
   ]
  },
  {
   "cell_type": "markdown",
   "metadata": {},
   "source": [
    "<p> Convolutions are small tensors that can be multiplied over small sections of the image. </p>\n",
    "<p>In the example above, the green section resembles our 5x5x1 input image, I. The element involved in carrying out the convolution operation in the first part of a Convolutional Layer is called the Kernel/Filter, K, represented in the color yellow. We have selected K as a 3x3x1 matrix. We are multiplying the matrix and summing the result into a new matrix dimesion\n",
    "</p>\n",
    "\n",
    "<img src=\"img/conv.gif\" width=\"200px\">\n",
    "\n",
    "\n",
    "<img src=\"img/rgb_conv.gif\" width=\"400px\">\n",
    "\n",
    "<p>Font:  https://towardsdatascience.com/a-comprehensive-guide-to-convolutional-neural-networks-the-eli5-way-3bd2b1164a53</p>\n",
    "\n",
    "\n",
    "<p> While any one convolution measures only a single pattern, there are more possible convolutions that can be created with large sizes. So there are also more patterns that can be captured with large convolutions.For example, it's possible to create a 3x3 convolution that filters for bright pixels with a dark one in the middle. There is no configuration of a 2x2 convolution that would capture this. On the other hand, anything that can be captured by a 2x2 convolution could also be captured by a 3x3 convolution.</p>\n"
   ]
  },
  {
   "cell_type": "markdown",
   "metadata": {},
   "source": [
    "#### Normalization"
   ]
  },
  {
   "cell_type": "markdown",
   "metadata": {},
   "source": [
    "X-RAY Normalization : The performance of all these techniques has been analyzed and evaluated on\n",
    "actual medical images. From the experimental results, it\n",
    "is found that the BPDFHE gives much better results in\n",
    "comparison to all other techniques. Font: http://ijarcet.org/wp-content/uploads/IJARCET-VOL-3-ISSUE-3-853-859.pdf\n",
    "\n",
    "Until recently,before the introduction of architectural elements such as\n",
    "dilated convolutions and residual connections, convolutional\n",
    "architectures were indeed weaker. Font: https://arxiv.org/pdf/1803.01271.pdf\n",
    "\n",
    "comma.ai model: https://arxiv.org/pdf/1608.01230.pdf"
   ]
  },
  {
   "cell_type": "code",
   "execution_count": null,
   "metadata": {},
   "outputs": [],
   "source": []
  }
 ],
 "metadata": {
  "kernelspec": {
   "display_name": "Python 3",
   "language": "python",
   "name": "python3"
  },
  "language_info": {
   "codemirror_mode": {
    "name": "ipython",
    "version": 3
   },
   "file_extension": ".py",
   "mimetype": "text/x-python",
   "name": "python",
   "nbconvert_exporter": "python",
   "pygments_lexer": "ipython3",
   "version": "3.7.2"
  }
 },
 "nbformat": 4,
 "nbformat_minor": 2
}
